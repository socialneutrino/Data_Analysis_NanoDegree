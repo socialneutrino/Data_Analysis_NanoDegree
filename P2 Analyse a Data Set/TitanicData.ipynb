{
 "cells": [
  {
   "cell_type": "code",
   "execution_count": 2,
   "metadata": {
    "collapsed": true
   },
   "outputs": [],
   "source": [
    "%matplotlib inline\n",
    "\n",
    "import numpy as np\n",
    "import pandas as pd\n",
    "import matplotlib.pyplot as plt"
   ]
  },
  {
   "cell_type": "code",
   "execution_count": 3,
   "metadata": {
    "collapsed": false
   },
   "outputs": [],
   "source": [
    "titanic_df = pd.read_csv(\"titanic_data.csv\")"
   ]
  },
  {
   "cell_type": "code",
   "execution_count": 6,
   "metadata": {
    "collapsed": false
   },
   "outputs": [
    {
     "name": "stdout",
     "output_type": "stream",
     "text": [
      "       PassengerId    Survived      Pclass         Age       SibSp  \\\n",
      "count   891.000000  891.000000  891.000000  714.000000  891.000000   \n",
      "mean    446.000000    0.383838    2.308642   29.699118    0.523008   \n",
      "std     257.353842    0.486592    0.836071   14.526497    1.102743   \n",
      "min       1.000000    0.000000    1.000000    0.420000    0.000000   \n",
      "25%     223.500000    0.000000    2.000000   20.125000    0.000000   \n",
      "50%     446.000000    0.000000    3.000000   28.000000    0.000000   \n",
      "75%     668.500000    1.000000    3.000000   38.000000    1.000000   \n",
      "max     891.000000    1.000000    3.000000   80.000000    8.000000   \n",
      "\n",
      "            Parch        Fare  \n",
      "count  891.000000  891.000000  \n",
      "mean     0.381594   32.204208  \n",
      "std      0.806057   49.693429  \n",
      "min      0.000000    0.000000  \n",
      "25%      0.000000    7.910400  \n",
      "50%      0.000000   14.454200  \n",
      "75%      0.000000   31.000000  \n",
      "max      6.000000  512.329200  \n"
     ]
    }
   ],
   "source": [
    "print titanic_df.describe()"
   ]
  },
  {
   "cell_type": "markdown",
   "metadata": {},
   "source": [
    "## How did sex and socioeconomic status affect your chance of survival on the Titanic? Were you more likely to survive if you had children on the boat?"
   ]
  },
  {
   "cell_type": "markdown",
   "metadata": {},
   "source": [
    "### Gender\n",
    "\n",
    "It is well known from folklore that women (and children) were prioritised for rescue. However, were you more likely to survive if you are woman, and were there other factors that affected your chance of survival?\n",
    "\n",
    "#### Total male and females, and survival rates"
   ]
  },
  {
   "cell_type": "markdown",
   "metadata": {},
   "source": [
    "Below are the total number of females and males on the Titanic."
   ]
  },
  {
   "cell_type": "code",
   "execution_count": 7,
   "metadata": {
    "collapsed": false
   },
   "outputs": [
    {
     "name": "stdout",
     "output_type": "stream",
     "text": [
      "Sex\n",
      "female    314\n",
      "male      577\n",
      "dtype: int64\n"
     ]
    }
   ],
   "source": [
    "titanic_sex = titanic_df.groupby(\"Sex\")\n",
    "sex_survival_sum = titanic_sex['Survived'].sum()\n",
    "print titanic_sex.size()"
   ]
  },
  {
   "cell_type": "markdown",
   "metadata": {},
   "source": [
    "Below are the total number of surviving females and males, as well as the survival rates for sex."
   ]
  },
  {
   "cell_type": "code",
   "execution_count": 8,
   "metadata": {
    "collapsed": false
   },
   "outputs": [
    {
     "name": "stdout",
     "output_type": "stream",
     "text": [
      "Sex\n",
      "female    233\n",
      "male      109\n",
      "Name: Survived, dtype: int64\n",
      "Sex\n",
      "female    0.742038\n",
      "male      0.188908\n",
      "dtype: float64\n"
     ]
    }
   ],
   "source": [
    "print sex_survival_sum\n",
    "print sex_survival_sum.divide(titanic_sex.size())"
   ]
  },
  {
   "cell_type": "markdown",
   "metadata": {},
   "source": [
    "### Socioeconomic Factors\n",
    "\n",
    "#### Fare as a measure of socioeconomic status\n",
    "\n",
    "Without more data, we can make an estimate of the socioeconomic status of each passenger by looking at the fare they had paid for a ticket."
   ]
  },
  {
   "cell_type": "code",
   "execution_count": 37,
   "metadata": {
    "collapsed": false
   },
   "outputs": [
    {
     "data": {
      "text/plain": [
       "(array([ 562.,  170.,   67.,   39.,   15.,   16.,    2.,    0.,    9.,\n",
       "           2.,    6.,    0.,    0.,    0.,    0.,    0.,    0.,    0.,\n",
       "           0.,    3.]),\n",
       " array([   0.     ,   25.61646,   51.23292,   76.84938,  102.46584,\n",
       "         128.0823 ,  153.69876,  179.31522,  204.93168,  230.54814,\n",
       "         256.1646 ,  281.78106,  307.39752,  333.01398,  358.63044,\n",
       "         384.2469 ,  409.86336,  435.47982,  461.09628,  486.71274,\n",
       "         512.3292 ]),\n",
       " <a list of 20 Patch objects>)"
      ]
     },
     "execution_count": 37,
     "metadata": {},
     "output_type": "execute_result"
    },
    {
     "data": {
      "image/png": "[encoded data removed]",
      "text/plain": [
       "<matplotlib.figure.Figure at 0xc790898>"
      ]
     },
     "metadata": {},
     "output_type": "display_data"
    }
   ],
   "source": [
    "plt.hist(titanic_df['Fare'], bins = 20)"
   ]
  },
  {
   "cell_type": "markdown",
   "metadata": {},
   "source": [
    "The Fare variable has a clear skewed distribution, with the median salary being under £14.50. The table below shows the mean fares for each group but grouped by the passenger class (1st, 2nd or 3rd class),followed by a histogram showing how the fares are distributed in each class. As we can see there is considerable overlap between the different passenger classes."
   ]
  },
  {
   "cell_type": "code",
   "execution_count": 20,
   "metadata": {
    "collapsed": false
   },
   "outputs": [
    {
     "name": "stdout",
     "output_type": "stream",
     "text": [
      "Pclass\n",
      "1    84.154687\n",
      "2    20.662183\n",
      "3    13.675550\n",
      "Name: Fare, dtype: float64\n",
      "Pclass\n",
      "1    216\n",
      "2    184\n",
      "3    491\n",
      "Name: Fare, dtype: int64\n"
     ]
    },
    {
     "data": {
      "image/png": "[encoded data removed]",
      "text/plain": [
       "<matplotlib.figure.Figure at 0xbe91e48>"
      ]
     },
     "metadata": {},
     "output_type": "display_data"
    }
   ],
   "source": [
    "#Group Titanic data by passenger class\n",
    "titanic_class = titanic_df.groupby(\"Pclass\")\n",
    "print titanic_class['Fare'].mean()\n",
    "print titanic_class['Fare'].count()\n",
    "\n",
    "#Create histogram of \n",
    "x = titanic_df.loc[titanic_df['Pclass'] == 1]['Fare'].as_matrix()\n",
    "y = titanic_df.loc[titanic_df['Pclass'] == 2]['Fare'].as_matrix()\n",
    "z = titanic_df.loc[titanic_df['Pclass'] == 3]['Fare'].as_matrix()\n",
    "\n",
    "bins = np.linspace(0, 100, 40)\n",
    "\n",
    "plt.hist(x, bins, alpha=0.5, label='1st')\n",
    "plt.hist(y, bins, alpha=0.5, label='2nd')\n",
    "plt.hist(z, bins, alpha=0.5, label='3rd')\n",
    "plt.legend(loc='upper right')\n",
    "plt.show()\n",
    "\n"
   ]
  },
  {
   "cell_type": "markdown",
   "metadata": {
    "collapsed": false
   },
   "source": [
    "We can go further in our analysis of what this data means and calculate if there is a rank correlation between the fare price, and the passenger class - treating class as a ordinal variable, since passenger class is clear not a linear scale. We can do this by using Spearman's Rank Correlation.\n",
    "\n",
    "### Performing Spearman's Rank Correlation hypothesis test for association between fare and passenger class\n",
    "###Null and alternative hypotheses\n",
    "\n",
    "- $H_0$: The null hypothesis is that there is no association between fare price and passenger class\n",
    "- $H_1$: The alternative hypothesis is that there is no association between fare price and passenger class.\n",
    "\n",
    "Setting $\\alpha = 0.05$, we have a confidence level of 95% for our two-tailed hypothesis test\n",
    "The critical p-values of the test returned will be less than 0.05\n",
    "\n",
    "The Spearman test shows that is a very low p value (see below) so we can reject $H_0$, and accept $H_1$ - there is an association between fare price and passenger class."
   ]
  },
  {
   "cell_type": "code",
   "execution_count": 21,
   "metadata": {
    "collapsed": false
   },
   "outputs": [
    {
     "name": "stdout",
     "output_type": "stream",
     "text": [
      "(-0.6880316726256096, 6.1945537314229761e-126)\n"
     ]
    }
   ],
   "source": [
    "from scipy.stats import spearmanr\n",
    "print spearmanr(titanic_df[['Pclass','Fare']])"
   ]
  },
  {
   "cell_type": "code",
   "execution_count": null,
   "metadata": {
    "collapsed": true
   },
   "outputs": [],
   "source": []
  },
  {
   "cell_type": "code",
   "execution_count": null,
   "metadata": {
    "collapsed": true
   },
   "outputs": [],
   "source": []
  },
  {
   "cell_type": "markdown",
   "metadata": {},
   "source": [
    "To analyse this data, I have standardized the Fare variable"
   ]
  },
  {
   "cell_type": "code",
   "execution_count": null,
   "metadata": {
    "collapsed": true
   },
   "outputs": [],
   "source": [
    "titanic_df['fare_std'] = (titanic_df['Fare'] - titanic_df['Fare'].mean())/titanic_df['Fare'].std(ddof=0)"
   ]
  }
 ],
 "metadata": {
  "kernelspec": {
   "display_name": "Python 2",
   "language": "python",
   "name": "python2"
  },
  "language_info": {
   "codemirror_mode": {
    "name": "ipython",
    "version": 2
   },
   "file_extension": ".py",
   "mimetype": "text/x-python",
   "name": "python",
   "nbconvert_exporter": "python",
   "pygments_lexer": "ipython2",
   "version": "2.7.11"
  }
 },
 "nbformat": 4,
 "nbformat_minor": 0
}
