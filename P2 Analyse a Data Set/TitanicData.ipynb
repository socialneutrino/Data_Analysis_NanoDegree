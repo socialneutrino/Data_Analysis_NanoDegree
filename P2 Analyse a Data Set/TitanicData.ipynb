{
 "cells": [
  {
   "cell_type": "code",
   "execution_count": 38,
   "metadata": {
    "collapsed": false
   },
   "outputs": [
    {
     "data": {
      "image/png": "[encoded data removed]",
      "text/plain": [
       "<matplotlib.figure.Figure at 0xbb02eb8>"
      ]
     },
     "metadata": {},
     "output_type": "display_data"
    }
   ],
   "source": [
    "%matplotlib inline\n",
    "\n",
    "import numpy as np\n",
    "import pandas as pd\n",
    "import matplotlib.pyplot as plt\n"
   ]
  },
  {
   "cell_type": "code",
   "execution_count": 2,
   "metadata": {
    "collapsed": false
   },
   "outputs": [],
   "source": [
    "titanic_df = pd.read_csv(\"titanic_data.csv\")"
   ]
  },
  {
   "cell_type": "code",
   "execution_count": 3,
   "metadata": {
    "collapsed": false
   },
   "outputs": [
    {
     "name": "stdout",
     "output_type": "stream",
     "text": [
      "       PassengerId    Survived      Pclass         Age       SibSp  \\\n",
      "count   891.000000  891.000000  891.000000  714.000000  891.000000   \n",
      "mean    446.000000    0.383838    2.308642   29.699118    0.523008   \n",
      "std     257.353842    0.486592    0.836071   14.526497    1.102743   \n",
      "min       1.000000    0.000000    1.000000    0.420000    0.000000   \n",
      "25%     223.500000    0.000000    2.000000   20.125000    0.000000   \n",
      "50%     446.000000    0.000000    3.000000   28.000000    0.000000   \n",
      "75%     668.500000    1.000000    3.000000   38.000000    1.000000   \n",
      "max     891.000000    1.000000    3.000000   80.000000    8.000000   \n",
      "\n",
      "            Parch        Fare  \n",
      "count  891.000000  891.000000  \n",
      "mean     0.381594   32.204208  \n",
      "std      0.806057   49.693429  \n",
      "min      0.000000    0.000000  \n",
      "25%      0.000000    7.910400  \n",
      "50%      0.000000   14.454200  \n",
      "75%      0.000000   31.000000  \n",
      "max      6.000000  512.329200  \n"
     ]
    }
   ],
   "source": [
    "print titanic_df.describe()"
   ]
  },
  {
   "cell_type": "markdown",
   "metadata": {},
   "source": [
    "## How did sex and socioeconomic status affect your chance of survival on the Titanic? Were you more likely to survive if you had children on the boat?"
   ]
  },
  {
   "cell_type": "markdown",
   "metadata": {},
   "source": [
    "### Gender\n",
    "\n",
    "It is well known from folklore that women (and children) were prioritised for rescue. However, were you more likely to survive if you are woman, and were there other factors that affected your chance of survival?\n",
    "\n",
    "#### Total male and females, and survival rates"
   ]
  },
  {
   "cell_type": "markdown",
   "metadata": {},
   "source": [
    "Below are the total number of females and males on the Titanic."
   ]
  },
  {
   "cell_type": "code",
   "execution_count": 4,
   "metadata": {
    "collapsed": false
   },
   "outputs": [
    {
     "name": "stdout",
     "output_type": "stream",
     "text": [
      "Sex\n",
      "female    314\n",
      "male      577\n",
      "dtype: int64\n"
     ]
    }
   ],
   "source": [
    "titanic_sex = titanic_df.groupby(\"Sex\")\n",
    "sex_survival_sum = titanic_sex['Survived'].sum()\n",
    "print titanic_sex.size()"
   ]
  },
  {
   "cell_type": "markdown",
   "metadata": {},
   "source": [
    "Below are the total number of surviving females and males, as well as the survival rates for sex."
   ]
  },
  {
   "cell_type": "code",
   "execution_count": 5,
   "metadata": {
    "collapsed": false
   },
   "outputs": [
    {
     "name": "stdout",
     "output_type": "stream",
     "text": [
      "Sex\n",
      "female    233\n",
      "male      109\n",
      "Name: Survived, dtype: int64\n",
      "Sex\n",
      "female    0.742038\n",
      "male      0.188908\n",
      "dtype: float64\n"
     ]
    }
   ],
   "source": [
    "print sex_survival_sum\n",
    "print sex_survival_sum.divide(titanic_sex.size())"
   ]
  },
  {
   "cell_type": "markdown",
   "metadata": {},
   "source": [
    "### Socioeconomic Factors\n",
    "\n",
    "#### Fare as a measure of socioeconomic status\n",
    "\n",
    "Without more data, we might make an estimate of the socioeconomic status of each passenger by looking at the fare they had paid for a ticket, or by seeing what passenger class the passenger is in."
   ]
  },
  {
   "cell_type": "code",
   "execution_count": 6,
   "metadata": {
    "collapsed": false
   },
   "outputs": [
    {
     "data": {
      "text/plain": [
       "(array([ 562.,  170.,   67.,   39.,   15.,   16.,    2.,    0.,    9.,\n",
       "           2.,    6.,    0.,    0.,    0.,    0.,    0.,    0.,    0.,\n",
       "           0.,    3.]),\n",
       " array([   0.     ,   25.61646,   51.23292,   76.84938,  102.46584,\n",
       "         128.0823 ,  153.69876,  179.31522,  204.93168,  230.54814,\n",
       "         256.1646 ,  281.78106,  307.39752,  333.01398,  358.63044,\n",
       "         384.2469 ,  409.86336,  435.47982,  461.09628,  486.71274,\n",
       "         512.3292 ]),\n",
       " <a list of 20 Patch objects>)"
      ]
     },
     "execution_count": 6,
     "metadata": {},
     "output_type": "execute_result"
    },
    {
     "data": {
      "image/png": "[encoded data removed]",
      "text/plain": [
       "<matplotlib.figure.Figure at 0xbb02e10>"
      ]
     },
     "metadata": {},
     "output_type": "display_data"
    }
   ],
   "source": [
    "#Plotting histogram of fare\n",
    "plt.hist(titanic_df['Fare'], bins = 20)"
   ]
  },
  {
   "cell_type": "markdown",
   "metadata": {},
   "source": [
    "The Fare variable has a clear skewed distribution, with the median salary being under £14.50. The table below shows the mean fares for each group but grouped by the passenger class (1st, 2nd or 3rd class),followed by a histogram showing how the fares are distributed in each class. As we can see there is considerable overlap between the different passenger classes."
   ]
  },
  {
   "cell_type": "code",
   "execution_count": 7,
   "metadata": {
    "collapsed": false
   },
   "outputs": [
    {
     "name": "stdout",
     "output_type": "stream",
     "text": [
      "Pclass\n",
      "1    84.154687\n",
      "2    20.662183\n",
      "3    13.675550\n",
      "Name: Fare, dtype: float64\n",
      "Pclass\n",
      "1    216\n",
      "2    184\n",
      "3    491\n",
      "Name: Fare, dtype: int64\n"
     ]
    },
    {
     "data": {
      "image/png": "[encoded data removed]",
      "text/plain": [
       "<matplotlib.figure.Figure at 0x3e1bba8>"
      ]
     },
     "metadata": {},
     "output_type": "display_data"
    }
   ],
   "source": [
    "#Group Titanic data by passenger class\n",
    "titanic_class = titanic_df.groupby(\"Pclass\")\n",
    "print titanic_class['Fare'].mean()\n",
    "print titanic_class['Fare'].count()\n",
    "\n",
    "#Create histogram of \n",
    "x = titanic_df.loc[titanic_df['Pclass'] == 1]['Fare'].as_matrix()\n",
    "y = titanic_df.loc[titanic_df['Pclass'] == 2]['Fare'].as_matrix()\n",
    "z = titanic_df.loc[titanic_df['Pclass'] == 3]['Fare'].as_matrix()\n",
    "\n",
    "bins = np.linspace(0, 100, 40)\n",
    "\n",
    "plt.hist(x, bins, alpha=0.5, label='1st')\n",
    "plt.hist(y, bins, alpha=0.5, label='2nd')\n",
    "plt.hist(z, bins, alpha=0.5, label='3rd')\n",
    "plt.legend(loc='upper right')\n",
    "plt.show()\n",
    "\n"
   ]
  },
  {
   "cell_type": "markdown",
   "metadata": {
    "collapsed": false
   },
   "source": [
    "We can go further in our analysis of what this data means and calculate if there is a rank correlation between the fare price, and the passenger class - treating class as a ordinal variable, since passenger class is clear not a linear scale. We can do this by using Spearman's Rank Correlation.\n",
    "\n",
    "### Performing Spearman's Rank Correlation hypothesis test for association between fare and passenger class\n",
    "\n",
    "Since class is an integer, we could treat it as an ordinal variable of socioeconomic heirarchy. How strong is the link between class and fare price.\n",
    "\n",
    "#### Null and alternative hypotheses\n",
    "\n",
    "- $H_0$: The null hypothesis is that there is no association between fare price and passenger class\n",
    "- $H_1$: The alternative hypothesis is that there is an association between fare price and passenger class.\n",
    "\n",
    "Setting $\\alpha = 0.05$, we have a confidence level of 95% for our two-tailed hypothesis test\n",
    "The critical p-values of the test returned will be less than 0.05\n",
    "\n",
    "The Spearman test shows that is a very low p value (see below) so we can reject $H_0$, and accept $H_1$ - there is an association between fare price and passenger class.\n",
    "\n",
    "However, the r value is not that large. As we can see from the histogram, there is a fair amount of "
   ]
  },
  {
   "cell_type": "code",
   "execution_count": 8,
   "metadata": {
    "collapsed": false
   },
   "outputs": [
    {
     "name": "stdout",
     "output_type": "stream",
     "text": [
      "(-0.6880316726256096, 6.1945537314229761e-126)\n"
     ]
    }
   ],
   "source": [
    "#Performing Spearman test for rank correlation\n",
    "from scipy.stats import spearmanr\n",
    "print spearmanr(titanic_df[['Pclass','Fare']])"
   ]
  },
  {
   "cell_type": "code",
   "execution_count": 9,
   "metadata": {
    "collapsed": false
   },
   "outputs": [
    {
     "name": "stdout",
     "output_type": "stream",
     "text": [
      "Pclass\n",
      "1    0.629630\n",
      "2    0.472826\n",
      "3    0.242363\n",
      "dtype: float64\n"
     ]
    }
   ],
   "source": [
    "#Survival rates for passenger class\n",
    "class_survival_sum = titanic_class['Survived'].sum()\n",
    "print class_survival_sum.divide(titanic_class.size())"
   ]
  },
  {
   "cell_type": "code",
   "execution_count": 10,
   "metadata": {
    "collapsed": false
   },
   "outputs": [
    {
     "name": "stdout",
     "output_type": "stream",
     "text": [
      "Sex     Pclass\n",
      "female  1         0.968085\n",
      "        2         0.921053\n",
      "        3         0.500000\n",
      "male    1         0.368852\n",
      "        2         0.157407\n",
      "        3         0.135447\n",
      "dtype: float64\n"
     ]
    }
   ],
   "source": [
    "#Survival rates grouped by passenger class and by sex\n",
    "sex_class_grouped = titanic_df.groupby(['Sex','Pclass'])\n",
    "class_sex_survival = sex_class_grouped['Survived'].sum().divide(sex_class_grouped.size())\n",
    "print class_sex_survival"
   ]
  },
  {
   "cell_type": "code",
   "execution_count": 36,
   "metadata": {
    "collapsed": false
   },
   "outputs": [
    {
     "name": "stdout",
     "output_type": "stream",
     "text": [
      "6     0\n",
      "23    1\n",
      "27    0\n",
      "30    0\n",
      "34    0\n",
      "Name: Survived, dtype: int64\n"
     ]
    }
   ],
   "source": [
    "titanic_male = titanic_df[\"Sex\"] == \"male\"\n",
    "titanic_class1 = titanic_df[\"Pclass\"] == 1\n",
    "titanic_class2 = titanic_df[\"Pclass\"] == 2\n",
    "titanic_class3 = titanic_df[\"Pclass\"] == 3\n",
    "\n",
    "print titanic_df[titanic_male & titanic_class1][\"Survived\"].head()"
   ]
  },
  {
   "cell_type": "code",
   "execution_count": 43,
   "metadata": {
    "collapsed": false
   },
   "outputs": [
    {
     "data": {
      "image/png": "[encoded data removed]",
      "text/plain": [
       "<matplotlib.figure.Figure at 0x18b09be0>"
      ]
     },
     "metadata": {},
     "output_type": "display_data"
    }
   ],
   "source": [
    "##Source --> http://matplotlib.org/examples/statistics/boxplot_vs_violin_demo.html\n",
    "\n",
    "fig, axes = plt.subplots(nrows=1, ncols=2, figsize=(12, 6))\n",
    "male_data = [titanic_df[titanic_male & titanic_class1][\"Survived\"],\n",
    "           titanic_df[titanic_male & titanic_class2][\"Survived\"],\n",
    "           titanic_df[titanic_male & titanic_class3][\"Survived\"]]\n",
    "\n",
    "female_data = [titanic_df[-titanic_male & titanic_class1][\"Survived\"],\n",
    "           titanic_df[-titanic_male & titanic_class2][\"Survived\"],\n",
    "           titanic_df[-titanic_male & titanic_class3][\"Survived\"]]\n",
    "\n",
    "# plot violin plot of males grouped by class\n",
    "axes[0].violinplot(male_data, showmeans=False, showmedians=True)\n",
    "axes[0].set_title('Men on the Titanic')\n",
    "\n",
    "# adding horizontal grid lines\n",
    "axes[0].yaxis.grid(False)\n",
    "axes[0].set_xticks([y+1 for y in range(len(male_data))])\n",
    "axes[0].set_xlabel('Passenger Class')\n",
    "axes[0].set_ylabel('Survived')\n",
    "\n",
    "plt.setp(axes[0], xticks=[y+1 for y in range(len(male_data))],\n",
    "         xticklabels=['1st', '2nd', '3rd'])\n",
    "\n",
    "# plot violin plot of females grouped by class\n",
    "axes[1].violinplot(female_data, showmeans=False, showmedians=True)\n",
    "axes[1].set_title('Women on the Titanic')\n",
    "\n",
    "# adding horizontal grid lines\n",
    "axes[1].yaxis.grid(False)\n",
    "axes[1].set_xticks([y+1 for y in range(len(female_data))])\n",
    "axes[1].set_xlabel('Passenger Class')\n",
    "axes[1].set_ylabel('Survived')\n",
    "\n",
    "plt.setp(axes[1], xticks=[y+1 for y in range(len(female_data))],\n",
    "         xticklabels=['1st', '2nd', '3rd'])\n",
    "\n",
    "plt.show()\n",
    "\n",
    "# a stacked bar plot with errorbars\n",
    "#source: http://matplotlib.org/examples/pylab_examples/bar_stacked.html\n"
   ]
  },
  {
   "cell_type": "markdown",
   "metadata": {
    "collapsed": false
   },
   "source": [
    "The violin plots above are an attempt to show the distributions of those that survived and those who died in the Titanic disaster. We can clearly see that as the class moves from 1st to 3rd, there is a trend of a drop in survival i.e. passengers in a passenger class that would be more frequented by working class people, there is a tendency towards a lower survival rate. What I find interesting is that the survival rates of 3rd class women is still clearly higher than 1st class men. And over 90% of women who were on the titanic survived. That is a huge difference between 3rd class women where the survival rate drops suddenly to 50%"
   ]
  },
  {
   "cell_type": "code",
   "execution_count": null,
   "metadata": {
    "collapsed": true
   },
   "outputs": [],
   "source": []
  },
  {
   "cell_type": "markdown",
   "metadata": {},
   "source": [
    "To analyse this data, I have standardized the Fare variable"
   ]
  },
  {
   "cell_type": "code",
   "execution_count": 13,
   "metadata": {
    "collapsed": true
   },
   "outputs": [],
   "source": [
    "titanic_df['fare_std'] = (titanic_df['Fare'] - titanic_df['Fare'].mean())/titanic_df['Fare'].std(ddof=0)"
   ]
  },
  {
   "cell_type": "code",
   "execution_count": null,
   "metadata": {
    "collapsed": true
   },
   "outputs": [],
   "source": []
  },
  {
   "cell_type": "code",
   "execution_count": null,
   "metadata": {
    "collapsed": true
   },
   "outputs": [],
   "source": []
  },
  {
   "cell_type": "code",
   "execution_count": null,
   "metadata": {
    "collapsed": true
   },
   "outputs": [],
   "source": []
  },
  {
   "cell_type": "code",
   "execution_count": null,
   "metadata": {
    "collapsed": true
   },
   "outputs": [],
   "source": []
  }
 ],
 "metadata": {
  "kernelspec": {
   "display_name": "Python 2",
   "language": "python",
   "name": "python2"
  },
  "language_info": {
   "codemirror_mode": {
    "name": "ipython",
    "version": 2
   },
   "file_extension": ".py",
   "mimetype": "text/x-python",
   "name": "python",
   "nbconvert_exporter": "python",
   "pygments_lexer": "ipython2",
   "version": "2.7.11"
  }
 },
 "nbformat": 4,
 "nbformat_minor": 0
}
